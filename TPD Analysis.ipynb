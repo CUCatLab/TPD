{
 "cells": [
  {
   "cell_type": "markdown",
   "metadata": {},
   "source": [
    "<h1>TPD Analysis</h1>"
   ]
  },
  {
   "cell_type": "code",
   "execution_count": 1,
   "metadata": {
    "tags": []
   },
   "outputs": [
    {
     "data": {
      "application/vnd.jupyter.widget-view+json": {
       "model_id": "4159bcff19364de2ae7a2071103bc3ac",
       "version_major": 2,
       "version_minor": 0
      },
      "text/plain": [
       "Dropdown(description='Select File', layout=Layout(width='70%'), options=('parameters', 'ParametersExample', 't…"
      ]
     },
     "metadata": {},
     "output_type": "display_data"
    },
    {
     "data": {
      "application/vnd.jupyter.widget-view+json": {
       "model_id": "5ede1a9111144ec29d756bf163cd6759",
       "version_major": 2,
       "version_minor": 0
      },
      "text/plain": [
       "Button(description='Show Data', style=ButtonStyle())"
      ]
     },
     "metadata": {},
     "output_type": "display_data"
    },
    {
     "data": {
      "application/vnd.jupyter.widget-view+json": {
       "model_id": "78092ff49aa240e0acfd9ddc56913be3",
       "version_major": 2,
       "version_minor": 0
      },
      "text/plain": [
       "Output()"
      ]
     },
     "metadata": {},
     "output_type": "display_data"
    }
   ],
   "source": [
    "from importlib import reload\n",
    "\n",
    "from tools import tpd\n",
    "reload(tpd)\n",
    "\n",
    "tpd = tpd.tpd()\n",
    "tpd.UI()"
   ]
  },
  {
   "cell_type": "markdown",
   "metadata": {},
   "source": [
    "<h2>Numerically integrate traces</h2>"
   ]
  },
  {
   "cell_type": "code",
   "execution_count": 2,
   "metadata": {
    "jupyter": {
     "source_hidden": true
    },
    "tags": []
   },
   "outputs": [
    {
     "ename": "NameError",
     "evalue": "name 'Data' is not defined",
     "output_type": "error",
     "traceback": [
      "\u001b[1;31m---------------------------------------------------------------------------\u001b[0m",
      "\u001b[1;31mNameError\u001b[0m                                 Traceback (most recent call last)",
      "Cell \u001b[1;32mIn[2], line 42\u001b[0m\n\u001b[0;32m     38\u001b[0m         first \u001b[38;5;241m=\u001b[39m first \u001b[38;5;241m+\u001b[39m \u001b[38;5;241m1\u001b[39m\n\u001b[0;32m     40\u001b[0m     \u001b[38;5;28;01mreturn\u001b[39;00m integrateSum\n\u001b[1;32m---> 42\u001b[0m d \u001b[38;5;241m=\u001b[39m indexTrim(\u001b[43mData\u001b[49m)\n\u001b[0;32m     43\u001b[0m baserange \u001b[38;5;241m=\u001b[39m DataRange(d, \u001b[38;5;241m50\u001b[39m, \u001b[38;5;241m100\u001b[39m)\n\u001b[0;32m     44\u001b[0m base \u001b[38;5;241m=\u001b[39m Baseline(baserange, \u001b[38;5;124m'\u001b[39m\u001b[38;5;124mMass 28\u001b[39m\u001b[38;5;124m'\u001b[39m)\n",
      "\u001b[1;31mNameError\u001b[0m: name 'Data' is not defined"
     ]
    }
   ],
   "source": [
    "\n",
    "#Make indexes nice to work with\n",
    "def indexTrim(Data) :\n",
    "    boo = np.zeros(len(Data), int)\n",
    "    for a, b in enumerate(boo) :\n",
    "        boo[a] = a\n",
    "    Data = Data.set_index(boo)\n",
    "    return Data\n",
    "\n",
    "#picking a range\n",
    "def DataRange(d, lower, upper) :\n",
    "    td = d.iloc[lower:upper]\n",
    "    return td\n",
    "\n",
    "#find mean of points in a dataframe for a given mass\n",
    "def Baseline(d, mass) :\n",
    "    base = np.mean(d[mass])\n",
    "    return base\n",
    "\n",
    "def integrate(d, base, mass) :\n",
    "    #get deltaT by just taking the difference between first two temp values\n",
    "\n",
    "    integrateSum = 0\n",
    "    first = 0\n",
    "    \n",
    "    while first < len(d)-1 :\n",
    "        deltaT = d.index.values[1] -d.index.values[0]\n",
    "        #print(first)\n",
    "        second =  first + 1\n",
    "\n",
    "        y1 = float(d[mass].values[first])\n",
    "        y2 = float(d[mass].values[second])\n",
    "        deltaY = y2-y1\n",
    "  \n",
    "        rectA = deltaT * (y1-base)\n",
    "        triA = deltaT * (deltaY)/2\n",
    "\n",
    "        integrateSum = integrateSum + rectA + triA\n",
    "        first = first + 1\n",
    "        \n",
    "    return integrateSum\n",
    "\n",
    "d = indexTrim(Data)\n",
    "baserange = DataRange(d, 50, 100)\n",
    "base = Baseline(baserange, 'Mass 28')\n",
    "print('Base is :', base)\n",
    "print('Base integration check is :', integrate(baserange, base, 'Mass 28'))\n",
    "print('integrated value is :', integrate(d, base, 'Mass 28'))"
   ]
  },
  {
   "cell_type": "markdown",
   "metadata": {},
   "source": [
    "<h2>File info</h2>\n",
    "\n",
    "This script analyzes TPD data. \n",
    "\n",
    "The following external packages must be installed:\n",
    "- lmfit\n",
    "- igor\n",
    "- plotly\n",
    "- xarray\n",
    "\n",
    "-----------------------\n",
    "Created by Jerry LaRue, larue@chapman.edu, 12/2018\n",
    "\n",
    "Last modified by Jerry LaRue, larue@chapman.edu, 07/2021"
   ]
  },
  {
   "cell_type": "markdown",
   "metadata": {
    "tags": []
   },
   "source": [
    " "
   ]
  }
 ],
 "metadata": {
  "kernelspec": {
   "display_name": "Python 3 (ipykernel)",
   "language": "python",
   "name": "python3"
  },
  "language_info": {
   "codemirror_mode": {
    "name": "ipython",
    "version": 3
   },
   "file_extension": ".py",
   "mimetype": "text/x-python",
   "name": "python",
   "nbconvert_exporter": "python",
   "pygments_lexer": "ipython3",
   "version": "3.10.13"
  },
  "vscode": {
   "interpreter": {
    "hash": "e43bdb5986b97db0d92ad2d32f4936b3d005a348c5b7af291a6be0e195e0a018"
   }
  }
 },
 "nbformat": 4,
 "nbformat_minor": 4
}
